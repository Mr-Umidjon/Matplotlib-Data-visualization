{
  "nbformat": 4,
  "nbformat_minor": 0,
  "metadata": {
    "colab": {
      "name": "Scatter (color, size). Homework.ipynb",
      "provenance": [],
      "collapsed_sections": [],
      "include_colab_link": true
    },
    "kernelspec": {
      "name": "python3",
      "display_name": "Python 3"
    },
    "language_info": {
      "name": "python"
    }
  },
  "cells": [
    {
      "cell_type": "markdown",
      "metadata": {
        "id": "view-in-github",
        "colab_type": "text"
      },
      "source": [
        "<a href=\"https://colab.research.google.com/github/Mr-Umidjon/Matplotlib-Data-visualization/blob/django-first/02_Scatter_(color_size)_Homework/Scatter_(color%2C_size)_Homework.ipynb\" target=\"_parent\"><img src=\"https://colab.research.google.com/assets/colab-badge.svg\" alt=\"Open In Colab\"/></a>"
      ]
    },
    {
      "cell_type": "markdown",
      "metadata": {
        "id": "vcZ4N5DFk4c3"
      },
      "source": [
        "# 1 Scatter (color, size)"
      ]
    },
    {
      "cell_type": "code",
      "metadata": {
        "id": "qrdkkwXflQc2"
      },
      "source": [
        "# Adding Maplotlib module\n",
        "import matplotlib.pyplot as plt"
      ],
      "execution_count": 1,
      "outputs": []
    },
    {
      "cell_type": "markdown",
      "metadata": {
        "id": "nTWb5zUBljiR"
      },
      "source": [
        "## 1. Plot one Data (Ma'lumotni tasvirlang)\n",
        "   \n",
        "   <b>Input</b>\n",
        "  <table align=\"left\"> \n",
        "  <tr>\n",
        "    <th><font size=\"3\">X</font></th>\n",
        "    <th><font size=\"3\">Y</font></th>\n",
        "  </tr>\n",
        "  <tr>\n",
        "    <td><font size=\"3\">4</font></td>\n",
        "    <td><font size=\"3\">9</font></td>\n",
        "  </tr>\n",
        "  </table>"
      ]
    },
    {
      "cell_type": "code",
      "metadata": {
        "id": "xZURY96Qk8wj"
      },
      "source": [
        "def one_point(x,y):\n",
        "  '''\n",
        "  Parameters: x and y axis points;\n",
        "  '''\n",
        "  # Write the code here\n",
        "  plt.scatter(x, y)\n",
        "  plt.show()"
      ],
      "execution_count": 2,
      "outputs": []
    },
    {
      "cell_type": "code",
      "source": [
        "x = 4\n",
        "y = 9\n",
        "one_point(x, y)"
      ],
      "metadata": {
        "colab": {
          "base_uri": "https://localhost:8080/",
          "height": 265
        },
        "id": "Ww4htw6ZgUjM",
        "outputId": "b7bc991b-2001-4f77-db78-ebae778a85b2"
      },
      "execution_count": 3,
      "outputs": [
        {
          "output_type": "display_data",
          "data": {
            "text/plain": [
              "<Figure size 432x288 with 1 Axes>"
            ],
            "image/png": "[encoded data removed]"
          },
          "metadata": {
            "needs_background": "light"
          }
        }
      ]
    },
    {
      "cell_type": "markdown",
      "metadata": {
        "id": "aGZmp-zAmDph"
      },
      "source": [
        "## 2. Plot list of Data (Listdagi ma'lumotlarni tasvirlang)\n",
        "\n",
        "   <b>Input</b>\n",
        "  <table align=\"left\"> \n",
        "  <tr>\n",
        "    <th><font size=\"3\">X</font></th>\n",
        "    <th><font size=\"3\">Y</font></th>\n",
        "  </tr>\n",
        "  <tr>\n",
        "    <td><font size=\"3\">1</font></td>\n",
        "    <td><font size=\"3\">2</font></td>\n",
        "  </tr>\n",
        "   <tr>\n",
        "    <td><font size=\"3\">2</font></td>\n",
        "    <td><font size=\"3\">4</font></td>\n",
        "  </tr>\n",
        "    <tr>\n",
        "    <td><font size=\"3\">3</font></td>\n",
        "    <td><font size=\"3\">6</font></td>\n",
        "  </tr>\n",
        "      <tr>\n",
        "    <td><font size=\"3\">4</font></td>\n",
        "    <td><font size=\"3\">3</font></td>\n",
        "  </tr>\n",
        "      <tr>\n",
        "    <td><font size=\"3\">10</font></td>\n",
        "    <td><font size=\"3\">7</font></td>\n",
        "  </tr>\n",
        "  </table>"
      ]
    },
    {
      "cell_type": "code",
      "metadata": {
        "id": "k_VOqpI9mEpl"
      },
      "source": [
        "def list_points(x,y):\n",
        "  '''\n",
        "  Parameters: x and y axis points list;\n",
        "  '''\n",
        "  # Write the code here\n",
        "  plt.scatter(x, y)\n",
        "  plt.show()"
      ],
      "execution_count": 4,
      "outputs": []
    },
    {
      "cell_type": "code",
      "source": [
        "x = [1, 2, 3, 4, 10]\n",
        "y = [2, 4, 6, 3, 7]\n",
        "list_points(x, y)"
      ],
      "metadata": {
        "colab": {
          "base_uri": "https://localhost:8080/",
          "height": 265
        },
        "id": "un4Kz6WKgf12",
        "outputId": "d73590a9-7e5e-4fda-cac2-4b614697d168"
      },
      "execution_count": 5,
      "outputs": [
        {
          "output_type": "display_data",
          "data": {
            "text/plain": [
              "<Figure size 432x288 with 1 Axes>"
            ],
            "image/png": "[encoded data removed]"
          },
          "metadata": {
            "needs_background": "light"
          }
        }
      ]
    },
    {
      "cell_type": "markdown",
      "metadata": {
        "id": "Qa4iOwLdmgCx"
      },
      "source": [
        "## Marker color\n",
        "3. Change the color of points (Nuqtalar rangini o'zgartiring)\n",
        "\n",
        "   <b>Input</b>\n",
        "  <table align=\"left\"> \n",
        "  <tr>\n",
        "    <th align=\"center\"><font size=\"3\">X</font></th>\n",
        "    <th align=\"center\"><font size=\"3\">Y</font></th>\n",
        "    <th align=\"center\"><font size=\"3\">Color</font></th>\n",
        "  </tr>\n",
        "  <tr>\n",
        "    <td align=\"center\"><font size=\"3\">1</font></td>\n",
        "    <td align=\"center\"><font size=\"3\">2</font></td>\n",
        "    <td align=\"center\"><font size=\"3\" color='red'>red</font></td>\n",
        "  </tr>\n",
        "  <tr>\n",
        "    <td align=\"center\"><font size=\"3\">2</font></td>\n",
        "    <td align=\"center\"><font size=\"3\">4</font></td>\n",
        "    <td align=\"center\"><font size=\"3\" color='red'>red</font></td>\n",
        "  </tr>\n",
        "  <tr>\n",
        "    <td align=\"center\"><font size=\"3\">3</font></td>\n",
        "    <td align=\"center\"><font size=\"3\">6</font></td>\n",
        "    <td align=\"center\"><font size=\"3\" color='red'>red</font></td>\n",
        "  </tr>\n",
        "  <tr>\n",
        "    <td align=\"center\"><font size=\"3\">4</font></td>\n",
        "    <td align=\"center\"><font size=\"3\">3</font></td>\n",
        "    <td align=\"center\"><font size=\"3\" color='red'>red</font></td>\n",
        "  </tr>\n",
        "  <tr>\n",
        "    <td align=\"center\"><font size=\"3\">10</font></td>\n",
        "    <td align=\"center\"><font size=\"3\">7</font></td>\n",
        "    <td align=\"center\"><font size=\"3\" color='red'>red</font></td>\n",
        "  </tr>\n",
        "  </table>"
      ]
    },
    {
      "cell_type": "code",
      "metadata": {
        "id": "CWSnK8-OmhBt"
      },
      "source": [
        "def points_color(x,y,color):\n",
        "  '''\n",
        "  Parameters: x and y axis points list;\n",
        "  '''\n",
        "  # Write the code here\n",
        "  plt.scatter(x, y, color=color)\n",
        "  plt.show()"
      ],
      "execution_count": 8,
      "outputs": []
    },
    {
      "cell_type": "code",
      "source": [
        "x = [1, 2, 3, 4, 10]\n",
        "y = [2, 4, 6, 3, 7]\n",
        "color = \"red\"\n",
        "points_color(x, y, color)"
      ],
      "metadata": {
        "colab": {
          "base_uri": "https://localhost:8080/",
          "height": 265
        },
        "id": "HxvgWqHzhJrW",
        "outputId": "c267dd0e-1b65-43d1-d76f-de81a7678dab"
      },
      "execution_count": 9,
      "outputs": [
        {
          "output_type": "display_data",
          "data": {
            "text/plain": [
              "<Figure size 432x288 with 1 Axes>"
            ],
            "image/png": "[encoded data removed]"
          },
          "metadata": {
            "needs_background": "light"
          }
        }
      ]
    },
    {
      "cell_type": "markdown",
      "metadata": {
        "id": "80xVyb2BpONT"
      },
      "source": [
        "## Marker size\n",
        "4. Change the size of the points (Nuqtalar hajmini o'zgartiring)\n",
        "\n",
        "   <b>Input</b>\n",
        "  <table align=\"left\"> \n",
        "  <tr>\n",
        "    <th align=\"center\"><font size=\"3\">X</font></th>\n",
        "    <th align=\"center\"><font size=\"3\">Y</font></th>\n",
        "    <th align=\"center\"><font size=\"3\">Size</font></th>\n",
        "  </tr>\n",
        "  <tr>\n",
        "    <td align=\"center\"><font size=\"3\">1</font></td>\n",
        "    <td align=\"center\"><font size=\"3\">2</font></td>\n",
        "    <td align=\"center\"><font size=\"3\">100</font></td>\n",
        "  </tr>\n",
        "  <tr>\n",
        "    <td align=\"center\"><font size=\"3\">2</font></td>\n",
        "    <td align=\"center\"><font size=\"3\">4</font></td>\n",
        "    <td align=\"center\"><font size=\"3\">100</font></td>\n",
        "  </tr>\n",
        "  <tr>\n",
        "    <td align=\"center\"><font size=\"3\">3</font></td>\n",
        "    <td align=\"center\"><font size=\"3\">6</font></td>\n",
        "    <td align=\"center\"><font size=\"3\">100</font></td>\n",
        "  </tr>\n",
        "  <tr>\n",
        "    <td align=\"center\"><font size=\"3\">4</font></td>\n",
        "    <td align=\"center\"><font size=\"3\">3</font></td>\n",
        "    <td align=\"center\"><font size=\"3\">100</font></td>\n",
        "  </tr>\n",
        "  <tr>\n",
        "    <td align=\"center\"><font size=\"3\">10</font></td>\n",
        "    <td align=\"center\"><font size=\"3\">7</font></td>\n",
        "    <td align=\"center\"><font size=\"3\">100</font></td>\n",
        "  </tr>\n",
        "  </table>"
      ]
    },
    {
      "cell_type": "code",
      "metadata": {
        "id": "47027sQjoeQM"
      },
      "source": [
        "def points_size(x,y,size):\n",
        "  '''\n",
        "  Parameters: x and y axis points list;\n",
        "  '''\n",
        "  # Write the code here\n",
        "  plt.scatter(x, y, s=size)\n",
        "  plt.show()"
      ],
      "execution_count": 12,
      "outputs": []
    },
    {
      "cell_type": "code",
      "source": [
        "x = [1, 2, 3, 4, 10]\n",
        "y = [2, 4, 6, 3, 7]\n",
        "size = 100\n",
        "points_size(x,y,size)"
      ],
      "metadata": {
        "colab": {
          "base_uri": "https://localhost:8080/",
          "height": 265
        },
        "id": "RDJmtnJThtxm",
        "outputId": "1f71ce14-e86c-4037-b381-036197451773"
      },
      "execution_count": 14,
      "outputs": [
        {
          "output_type": "display_data",
          "data": {
            "text/plain": [
              "<Figure size 432x288 with 1 Axes>"
            ],
            "image/png": "[encoded data removed]"
          },
          "metadata": {
            "needs_background": "light"
          }
        }
      ]
    },
    {
      "cell_type": "markdown",
      "metadata": {
        "id": "vgtJrORspQVy"
      },
      "source": [
        "## List of colors\n",
        "5. Plot different colored points (Turli xil ranglarni belgilang) \n",
        "\n",
        "   Input\n",
        "  <table align=\"left\"> \n",
        "  <tr>\n",
        "    <th align=\"center\"><font size=\"3\">X</font></th>\n",
        "    <th align=\"center\"><font size=\"3\">Y</font></th>\n",
        "    <th align=\"center\"><font size=\"3\">Color</font></th>\n",
        "  </tr>\n",
        "  <tr>\n",
        "    <td align=\"center\"><font size=\"3\">1</font></td>\n",
        "    <td align=\"center\"><font size=\"3\">2</font></td>\n",
        "    <td align=\"center\"><font size=\"3\" color='cyan'>c</font></td>\n",
        "  </tr>\n",
        "  <tr>\n",
        "    <td align=\"center\"><font size=\"3\">2</font></td>\n",
        "    <td align=\"center\"><font size=\"3\">4</font></td>\n",
        "    <td align=\"center\"><font size=\"3\" color='magenta'>m</font></td>\n",
        "  </tr>\n",
        "  <tr>\n",
        "    <td align=\"center\"><font size=\"3\">3</font></td>\n",
        "    <td align=\"center\"><font size=\"3\">6</font></td>\n",
        "    <td align=\"center\"><font size=\"3\" color='red'>r</font></td>\n",
        "  </tr>\n",
        "  <tr>\n",
        "    <td align=\"center\"><font size=\"3\">4</font></td>\n",
        "    <td align=\"center\"><font size=\"3\">3</font></td>\n",
        "    <td align=\"center\"><font size=\"3\" color='yellow'>y</font></td>\n",
        "  </tr>\n",
        "  <tr>\n",
        "    <td align=\"center\"><font size=\"3\">10</font></td>\n",
        "    <td align=\"center\"><font size=\"3\">7</font></td>\n",
        "    <td align=\"center\"><font size=\"3\" color='blue'>b</font></td>\n",
        "  </tr>\n",
        "  </table>"
      ]
    },
    {
      "cell_type": "code",
      "metadata": {
        "id": "48gaNv3spRJ1"
      },
      "source": [
        "def each_point_color(x,y,color):\n",
        "  '''\n",
        "  Parameters: x and y axis points list;\n",
        "  '''\n",
        "  # Write the code here\n",
        "  plt.scatter(x, y, c=color)\n",
        "  plt.show()"
      ],
      "execution_count": 15,
      "outputs": []
    },
    {
      "cell_type": "code",
      "source": [
        "x = [1, 2, 3, 4, 10]\n",
        "y = [2, 4, 6, 3, 7]\n",
        "color = ['c', 'm', 'r', 'y', 'b']\n",
        "each_point_color(x,y,color)"
      ],
      "metadata": {
        "colab": {
          "base_uri": "https://localhost:8080/",
          "height": 265
        },
        "id": "fSHPKJCxiQNK",
        "outputId": "82e03ad1-b850-4720-8310-802e3b920bef"
      },
      "execution_count": 16,
      "outputs": [
        {
          "output_type": "display_data",
          "data": {
            "text/plain": [
              "<Figure size 432x288 with 1 Axes>"
            ],
            "image/png": "[encoded data removed]"
          },
          "metadata": {
            "needs_background": "light"
          }
        }
      ]
    },
    {
      "cell_type": "markdown",
      "metadata": {
        "id": "-KH5DGa8sMTR"
      },
      "source": [
        "## Customize style and size\n",
        "6.  Plot points with different style and size (Turli xil o'lchamdagi nuqtalarni tasvirlang)\n",
        "\n",
        "  <b>Input</b>\n",
        "  <table align=\"left\"> \n",
        "  <tr>\n",
        "    <th align=\"center\"><font size=\"3\">X</font></th>\n",
        "    <th align=\"center\"><font size=\"3\">Y</font></th>\n",
        "    <th align=\"center\"><font size=\"3\">Color</font></th>\n",
        "    <th align=\"center\"><font size=\"3\">Size</font></th>\n",
        "  </tr>\n",
        "  <tr>\n",
        "    <td align=\"center\"><font size=\"3\">1</font></td>\n",
        "    <td align=\"center\"><font size=\"3\">2</font></td>\n",
        "    <td align=\"center\"><font size=\"3\" color='magenta'>m</font></td>\n",
        "    <td align=\"center\"><font size=\"3\">100</font></td>\n",
        "  </tr>\n",
        "  <tr>\n",
        "    <td align=\"center\"><font size=\"3\">2</font></td>\n",
        "    <td align=\"center\"><font size=\"3\">4</font></td>\n",
        "    <td align=\"center\"><font size=\"3\" color='magenta'>m</font></td>\n",
        "    <td align=\"center\"><font size=\"3\">150</font></td>\n",
        "  </tr>\n",
        "  <tr>\n",
        "    <td align=\"center\"><font size=\"3\">3</font></td>\n",
        "    <td align=\"center\"><font size=\"3\">6</font></td>\n",
        "    <td align=\"center\"><font size=\"3\" color='magenta'>m</font></td>\n",
        "    <td align=\"center\"><font size=\"3\">120</font></td>\n",
        "  </tr>\n",
        "  <tr>\n",
        "    <td align=\"center\"><font size=\"3\">4</font></td>\n",
        "    <td align=\"center\"><font size=\"3\">3</font></td>\n",
        "    <td align=\"center\"><font size=\"3\" color='magenta'>m</font></td>\n",
        "    <td align=\"center\"><font size=\"3\">110</font></td>\n",
        "  </tr>\n",
        "  <tr>\n",
        "    <td align=\"center\"><font size=\"3\">10</font></td>\n",
        "    <td align=\"center\"><font size=\"3\">7</font></td>\n",
        "    <td align=\"center\"><font size=\"3\" color='magenta'>m</font></td>\n",
        "    <td align=\"center\"><font size=\"3\">90</font></td>\n",
        "  </tr>\n",
        "\n",
        "  </table>"
      ]
    },
    {
      "cell_type": "code",
      "metadata": {
        "id": "zHACRfqbsNlr"
      },
      "source": [
        "def each_point_and_size(x,y,color,size):\n",
        "  '''\n",
        "  Parameters: x and y axis points list;\n",
        "  '''\n",
        "  # Write the code here\n",
        "  plt.scatter(x, y, s=size, c=color)\n",
        "  plt.show()"
      ],
      "execution_count": 17,
      "outputs": []
    },
    {
      "cell_type": "code",
      "source": [
        "x = [1, 2, 3, 4, 10]\n",
        "y = [2, 4, 6, 3, 7]\n",
        "color = 'm'\n",
        "size = [100, 150, 120, 110, 90]\n",
        "each_point_and_size(x,y,color,size)"
      ],
      "metadata": {
        "colab": {
          "base_uri": "https://localhost:8080/",
          "height": 265
        },
        "id": "_gfX8I5_izFf",
        "outputId": "108efbcc-bdea-46e1-a91c-c61932c015f3"
      },
      "execution_count": 18,
      "outputs": [
        {
          "output_type": "display_data",
          "data": {
            "text/plain": [
              "<Figure size 432x288 with 1 Axes>"
            ],
            "image/png": "[encoded data removed]"
          },
          "metadata": {
            "needs_background": "light"
          }
        }
      ]
    },
    {
      "cell_type": "markdown",
      "metadata": {
        "id": "M4fj3JiJtZrm"
      },
      "source": [
        "## Customize of color, style and size\n",
        "7.  Plot points with different color, and size (Turli xil o'lcham va rang nuqtalarni tasvirlang)\n",
        "\n",
        "   **Input**\n",
        "  <table align=\"left\"> \n",
        "  <tr>\n",
        "    <th align=\"center\"><font size=\"3\">X</font></th>\n",
        "    <th align=\"center\"><font size=\"3\">Y</font></th>\n",
        "    <th align=\"center\"><font size=\"3\">Color</font></th>\n",
        "    <th align=\"center\"><font size=\"3\">Size</font></th>\n",
        "  </tr>\n",
        "  <tr>\n",
        "    <td align=\"center\"><font size=\"3\">1</font></td>\n",
        "    <td align=\"center\"><font size=\"3\">2</font></td>\n",
        "    <td align=\"center\"><font size=\"3\" color='blue'>b</font></td>\n",
        "    <td align=\"center\"><font size=\"3\">100</font></td>\n",
        "  </tr>\n",
        "  <tr>\n",
        "    <td align=\"center\"><font size=\"3\">2</font></td>\n",
        "    <td align=\"center\"><font size=\"3\">4</font></td>\n",
        "    <td align=\"center\"><font size=\"3\" color='yellow'>y</font></td>\n",
        "    <td align=\"center\"><font size=\"3\">150</font></td>\n",
        "  </tr>\n",
        "  <tr>\n",
        "    <td align=\"center\"><font size=\"3\">3</font></td>\n",
        "    <td align=\"center\"><font size=\"3\">6</font></td>\n",
        "    <td align=\"center\"><font size=\"3\" color='green'>g</font></td>\n",
        "    <td align=\"center\"><font size=\"3\">120</font></td>\n",
        "  </tr>\n",
        "  <tr>\n",
        "    <td align=\"center\"><font size=\"3\">4</font></td>\n",
        "    <td align=\"center\"><font size=\"3\">3</font></td>\n",
        "    <td align=\"center\"><font size=\"3\" color='red'>r</font></td>\n",
        "    <td align=\"center\"><font size=\"3\">110</font></td>\n",
        "  </tr>\n",
        "  <tr>\n",
        "    <td align=\"center\"><font size=\"3\">10</font></td>\n",
        "    <td align=\"center\"><font size=\"3\">7</font></td>\n",
        "    <td align=\"center\"><font size=\"3\" color='magenta'>m</font></td>\n",
        "    <td align=\"center\"><font size=\"3\">90</font></td>\n",
        "  </tr>\n",
        "    \n",
        "  </tr>\n",
        "  </table>"
      ]
    },
    {
      "cell_type": "code",
      "metadata": {
        "id": "435B2ofCtafL"
      },
      "source": [
        "def each_point_style_size_color(x,y,color,size):\n",
        "  '''\n",
        "  Parameters: x and y axis points list;\n",
        "  '''\n",
        "  # Write the code here\n",
        "  plt.scatter(x, y, c=color, s=size)\n",
        "  plt.show()"
      ],
      "execution_count": 19,
      "outputs": []
    },
    {
      "cell_type": "code",
      "source": [
        "x = [1, 2, 3, 4, 10]\n",
        "y = [2, 4, 6, 3, 7]\n",
        "color =['b', 'y', 'g', 'r', 'm']\n",
        "size = [100, 150, 120, 110, 90]\n",
        "each_point_style_size_color(x,y,color,size)"
      ],
      "metadata": {
        "colab": {
          "base_uri": "https://localhost:8080/",
          "height": 265
        },
        "id": "i9eDnnD2jL2N",
        "outputId": "8375e8e6-9834-4c63-a996-41f85c6d7f01"
      },
      "execution_count": 20,
      "outputs": [
        {
          "output_type": "display_data",
          "data": {
            "text/plain": [
              "<Figure size 432x288 with 1 Axes>"
            ],
            "image/png": "[encoded data removed]"
          },
          "metadata": {
            "needs_background": "light"
          }
        }
      ]
    },
    {
      "cell_type": "code",
      "source": [
        ""
      ],
      "metadata": {
        "id": "y9nGv-sQSe1W"
      },
      "execution_count": 21,
      "outputs": []
    },
    {
      "cell_type": "code",
      "source": [
        ""
      ],
      "metadata": {
        "id": "yEVf_7xcj-SP"
      },
      "execution_count": null,
      "outputs": []
    }
  ]
}