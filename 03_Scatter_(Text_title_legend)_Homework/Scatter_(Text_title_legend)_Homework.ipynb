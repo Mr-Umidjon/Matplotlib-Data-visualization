{
  "nbformat": 4,
  "nbformat_minor": 0,
  "metadata": {
    "colab": {
      "name": "Scatter (Text, title, legend). Homework.ipynb",
      "provenance": [],
      "collapsed_sections": [],
      "toc_visible": true,
      "include_colab_link": true
    },
    "kernelspec": {
      "name": "python3",
      "display_name": "Python 3"
    },
    "language_info": {
      "name": "python"
    },
    "accelerator": "GPU"
  },
  "cells": [
    {
      "cell_type": "markdown",
      "metadata": {
        "id": "view-in-github",
        "colab_type": "text"
      },
      "source": [
        "<a href=\"https://colab.research.google.com/github/Mr-Umidjon/Matplotlib-Data-visualization/blob/django-first/03_Scatter_(Text_title_legend)_Homework/Scatter_(Text_title_legend)_Homework.ipynb\" target=\"_parent\"><img src=\"https://colab.research.google.com/assets/colab-badge.svg\" alt=\"Open In Colab\"/></a>"
      ]
    },
    {
      "cell_type": "markdown",
      "metadata": {
        "id": "vcZ4N5DFk4c3"
      },
      "source": [
        "# Scatter text, legend, grid"
      ]
    },
    {
      "cell_type": "code",
      "metadata": {
        "id": "qrdkkwXflQc2"
      },
      "source": [
        "import matplotlib.pyplot as plt"
      ],
      "execution_count": 85,
      "outputs": []
    },
    {
      "cell_type": "markdown",
      "metadata": {
        "id": "bTbohecVr7S4"
      },
      "source": [
        "## Text in Matplotlib in plots\n"
      ]
    },
    {
      "cell_type": "markdown",
      "metadata": {
        "id": "zlegZmkLtnUr"
      },
      "source": [
        "### Title of plot\n",
        "10. Insert Title of your plot as \"Point coordinates\"(Chizmaning sarlavhasini \"Point coordinates\" deb nomlang)"
      ]
    },
    {
      "cell_type": "code",
      "metadata": {
        "id": "LnDWbqjhtoS3"
      },
      "source": [
        "def plot_title(x,y):\n",
        "  '''\n",
        "  Parameters: x and y axis points;\n",
        "  '''\n",
        "  plt.title(\"Point coordinates\", c='red', size=25, pad=20)\n",
        "  plt.scatter(x, y)\n",
        "  plt.show()"
      ],
      "execution_count": 94,
      "outputs": []
    },
    {
      "cell_type": "code",
      "source": [
        "plot_title(3, 4)"
      ],
      "metadata": {
        "colab": {
          "base_uri": "https://localhost:8080/",
          "height": 304
        },
        "id": "DW2I0eEF0fA9",
        "outputId": "2a87a667-245c-4869-9762-501a40dacde9"
      },
      "execution_count": 95,
      "outputs": [
        {
          "output_type": "display_data",
          "data": {
            "text/plain": [
              "<Figure size 432x288 with 1 Axes>"
            ],
            "image/png": "[encoded data removed]"
          },
          "metadata": {
            "needs_background": "light"
          }
        }
      ]
    },
    {
      "cell_type": "markdown",
      "metadata": {
        "id": "qS9Lf5lOulNR"
      },
      "source": [
        "### Text in the plot\n",
        "11. Print text(Full Name) in the plot (chizmada matnni(to'liq ismingizni) chop eting)"
      ]
    },
    {
      "cell_type": "code",
      "metadata": {
        "id": "7tIizjjBumaq"
      },
      "source": [
        "def text_in_plot(x,y):\n",
        "  '''\n",
        "  Parameters: x and y axis points;\n",
        "  '''\n",
        "  fullname = \"Umidbek\"\n",
        "  plt.text(x, y, s=fullname, c='blue', size=25)\n",
        "  plt.scatter(x, y, c='white')\n",
        "  plt.show()"
      ],
      "execution_count": 96,
      "outputs": []
    },
    {
      "cell_type": "code",
      "source": [
        "text_in_plot(3,4)"
      ],
      "metadata": {
        "colab": {
          "base_uri": "https://localhost:8080/",
          "height": 265
        },
        "id": "J2ugUL4H1JOn",
        "outputId": "9eb77525-018d-4536-e902-e5107fdada6e"
      },
      "execution_count": 97,
      "outputs": [
        {
          "output_type": "display_data",
          "data": {
            "text/plain": [
              "<Figure size 432x288 with 1 Axes>"
            ],
            "image/png": "[encoded data removed]"
          },
          "metadata": {
            "needs_background": "light"
          }
        }
      ]
    },
    {
      "cell_type": "markdown",
      "metadata": {
        "id": "sQRckSR6wEF7"
      },
      "source": [
        "*12*. Inserting coordinates for each points (har bir nuqta uchun kordinatalarni kiriting)"
      ]
    },
    {
      "cell_type": "code",
      "metadata": {
        "id": "gwWiyC0gwGNr"
      },
      "source": [
        "def each_point_style_size_color_cor(x,y,color,style,size):\n",
        "  '''\n",
        "  Parameters: x and y axis points list;\n",
        "  '''\n",
        "  # Write the code here\n",
        "  for i in range(len(x)):\n",
        "    plt.scatter(x[i], y[i], s=size, color=color[i], marker=style[i])\n",
        "    plt.text(x[i]+0.2, y[i], f\"({x[i]}; {y[i]})\")\n",
        "\n",
        "  plt.show()"
      ],
      "execution_count": 98,
      "outputs": []
    },
    {
      "cell_type": "code",
      "source": [
        "x = [1, 2, 3, 4, 10]\n",
        "y = [2, 4, 6, 3, 7]\n",
        "color = ['#2c7fb8', '#ff7f0e', '#2ca02c', '#d62728', '#9467bd']\n",
        "style = ['+', 'p', 's', 'v', '*']\n",
        "size = 100\n",
        "each_point_style_size_color_cor(x,y,color, style, size)"
      ],
      "metadata": {
        "colab": {
          "base_uri": "https://localhost:8080/",
          "height": 265
        },
        "id": "Du6L4USB3yXB",
        "outputId": "8d6dc000-543b-4710-a558-7ed08fe30549"
      },
      "execution_count": 99,
      "outputs": [
        {
          "output_type": "display_data",
          "data": {
            "text/plain": [
              "<Figure size 432x288 with 1 Axes>"
            ],
            "image/png": "[encoded data removed]"
          },
          "metadata": {
            "needs_background": "light"
          }
        }
      ]
    },
    {
      "cell_type": "markdown",
      "metadata": {
        "id": "2mUqdJCnvSGN"
      },
      "source": [
        "### Name of Axis\n",
        "13. Insert name of Axises (O'qlarning nomini kiriting)"
      ]
    },
    {
      "cell_type": "code",
      "metadata": {
        "id": "rnSO5ULUvS8I"
      },
      "source": [
        "def x_y_label(x,y):\n",
        "  '''\n",
        "  Parameters: x and y axis points;\n",
        "  '''\n",
        "  # Write the code here\n",
        "  plt.xlabel(xlabel='X - axis', c='m', size=20, labelpad=20)\n",
        "  plt.ylabel(ylabel='Y - axis', c='m', size=20, labelpad=20)\n",
        "  plt.scatter(x, y, c='r')\n",
        "  plt.show()"
      ],
      "execution_count": 100,
      "outputs": []
    },
    {
      "cell_type": "code",
      "source": [
        "x_y_label(3, 4)"
      ],
      "metadata": {
        "colab": {
          "base_uri": "https://localhost:8080/",
          "height": 304
        },
        "id": "emgOtdnI7n1N",
        "outputId": "23b12cd0-88c9-4172-c3bc-55482ddc4f04"
      },
      "execution_count": 101,
      "outputs": [
        {
          "output_type": "display_data",
          "data": {
            "text/plain": [
              "<Figure size 432x288 with 1 Axes>"
            ],
            "image/png": "[encoded data removed]"
          },
          "metadata": {
            "needs_background": "light"
          }
        }
      ]
    },
    {
      "cell_type": "markdown",
      "metadata": {
        "id": "3PZZVaqL0IUc"
      },
      "source": [
        "### Legend\n",
        "14. Adding legend(description of data) for your plot (Chizmangizga legend (ma'lumotlar tavsifi) qo'shing)"
      ]
    },
    {
      "cell_type": "code",
      "metadata": {
        "id": "TAE8x77g0JEV"
      },
      "source": [
        "def legend_of_data(x,y):\n",
        "  '''\n",
        "  Parameters: x and y axis points list;\n",
        "  '''\n",
        "  # Write the code here\n",
        "  color = ['cyan', 'red', 'magenta']\n",
        "  for i in range(len(x)):\n",
        "    plt.scatter(x[i], y[i], c=color[i], label=color[i])\n",
        "  plt.legend()\n",
        "  plt.show()"
      ],
      "execution_count": 102,
      "outputs": []
    },
    {
      "cell_type": "code",
      "source": [
        "x = [1, 2, 4]\n",
        "y = [2, 3, 4]\n",
        "legend_of_data(x,y)"
      ],
      "metadata": {
        "colab": {
          "base_uri": "https://localhost:8080/",
          "height": 265
        },
        "id": "mD3j9bgp8w2O",
        "outputId": "418ab0b6-910f-4542-f946-b2816273bf28"
      },
      "execution_count": 103,
      "outputs": [
        {
          "output_type": "display_data",
          "data": {
            "text/plain": [
              "<Figure size 432x288 with 1 Axes>"
            ],
            "image/png": "[encoded data removed]"
          },
          "metadata": {
            "needs_background": "light"
          }
        }
      ]
    },
    {
      "cell_type": "markdown",
      "metadata": {
        "id": "KRo3NK8T1-Vs"
      },
      "source": [
        "## Grid\n",
        "15. Adding grid for your plot (Chizmangiz uchun grid(katak) qo'shing)"
      ]
    },
    {
      "cell_type": "code",
      "metadata": {
        "id": "CitblrYF1_OR"
      },
      "source": [
        "\n",
        "def plot_grid(x,y,color,style,size):\n",
        "  '''\n",
        "  Parameters: x and y axis points list;\n",
        "  '''\n",
        "  # Write the code here\n",
        "  \n",
        "  for i in range(len(x)):\n",
        "    plt.grid(alpha=1)\n",
        "    plt.scatter(x[i], y[i], marker=style[i], s=size, color=color[i])\n",
        "    plt.text(x[i]+0.2, y[i], s=f\"({x[i]}; {y[i]})\")\n",
        "  plt.show()"
      ],
      "execution_count": 118,
      "outputs": []
    },
    {
      "cell_type": "code",
      "source": [
        "x = [1, 2, 3, 4, 10]\n",
        "y = [2, 4, 6, 3, 7]\n",
        "color = ['#2c7fb8', '#ff7f0e', '#2ca02c', '#d62728', '#9467bd']\n",
        "style = ['+', 'p', 's', 'v', '*']\n",
        "size = 100\n",
        "plot_grid(x,y,color,style,size)"
      ],
      "metadata": {
        "colab": {
          "base_uri": "https://localhost:8080/",
          "height": 265
        },
        "id": "ZZChLxHB9yiC",
        "outputId": "617fdbb0-1447-4b6d-9124-d5ca875987c2"
      },
      "execution_count": 119,
      "outputs": [
        {
          "output_type": "display_data",
          "data": {
            "text/plain": [
              "<Figure size 432x288 with 1 Axes>"
            ],
            "image/png": "[encoded data removed]"
          },
          "metadata": {
            "needs_background": "light"
          }
        }
      ]
    },
    {
      "cell_type": "code",
      "source": [
        "plt.grid()\n",
        "plt.scatter(2, 3)\n",
        "plt.show()"
      ],
      "metadata": {
        "colab": {
          "base_uri": "https://localhost:8080/",
          "height": 265
        },
        "id": "jJbicEYm90Bl",
        "outputId": "0830d5dc-ef53-4d8b-dd1e-f7b206bf9fda"
      },
      "execution_count": 106,
      "outputs": [
        {
          "output_type": "display_data",
          "data": {
            "text/plain": [
              "<Figure size 432x288 with 1 Axes>"
            ],
            "image/png": "[encoded data removed]"
          },
          "metadata": {
            "needs_background": "light"
          }
        }
      ]
    },
    {
      "cell_type": "code",
      "source": [
        ""
      ],
      "metadata": {
        "id": "e0YNs6w_-5jU"
      },
      "execution_count": null,
      "outputs": []
    }
  ]
}