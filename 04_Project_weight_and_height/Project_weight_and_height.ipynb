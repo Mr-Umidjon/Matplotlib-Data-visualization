{
 "cells": [
  {
   "cell_type": "code",
   "execution_count": 4,
   "metadata": {
    "collapsed": true
   },
   "outputs": [],
   "source": [
    "import matplotlib.pyplot as plt"
   ]
  },
  {
   "cell_type": "code",
   "execution_count": 8,
   "outputs": [],
   "source": [
    "import csv\n",
    "\n",
    "def read_csv_data(file_path):\n",
    "    \"\"\"\n",
    "    Read csv file\n",
    "    Args:\n",
    "        file_path(str): file path\n",
    "    Returns:\n",
    "        list: data split row\n",
    "    \"\"\"\n",
    "    result_data = []\n",
    "    # WRITE YOUR CODE HERE\n",
    "    with open(\"data/weight-height.csv\") as file:\n",
    "        for row in csv.reader(file):\n",
    "            result_data.append(row)\n",
    "    return result_data"
   ],
   "metadata": {
    "collapsed": false,
    "pycharm": {
     "name": "#%%\n"
    }
   }
  },
  {
   "cell_type": "code",
   "execution_count": 17,
   "outputs": [],
   "source": [
    "# data = read_csv_data(\"data/weight-height.csv\")"
   ],
   "metadata": {
    "collapsed": false,
    "pycharm": {
     "name": "#%%\n"
    }
   }
  },
  {
   "cell_type": "code",
   "execution_count": 26,
   "outputs": [],
   "source": [
    "def get_data(data):\n",
    "    \"\"\"\n",
    "    Get data from list.\n",
    "    Gender: Change Male to 0 and Female to 1\n",
    "    Weight: Place the column in the Kg view given in Pound (1 kg = 2,205 pound).\n",
    "    Height: Place the column on the list in the cm view given in inches (2.54 cm = 1 inch).\n",
    "    Args:\n",
    "        data(list): data split row\n",
    "    Returns:\n",
    "        tuple: gender, weight and height\n",
    "\n",
    "    \"\"\"\n",
    "    gender = []\n",
    "    weight = []\n",
    "    height = []\n",
    "\n",
    "    # WRITE YOUR CODE HERE\n",
    "    for row in data[1:]:\n",
    "        if row[0] == \"Male\":\n",
    "            gender.append(0)\n",
    "        else:\n",
    "            gender.append(1)\n",
    "        weight.append(float(row[1]))\n",
    "        height.append(float(row[2]))\n",
    "\n",
    "    return gender,weight,height"
   ],
   "metadata": {
    "collapsed": false,
    "pycharm": {
     "name": "#%%\n"
    }
   }
  },
  {
   "cell_type": "code",
   "execution_count": 29,
   "outputs": [],
   "source": [
    "# gender,weight,height = get_data(data)"
   ],
   "metadata": {
    "collapsed": false,
    "pycharm": {
     "name": "#%%\n"
    }
   }
  },
  {
   "cell_type": "code",
   "execution_count": 43,
   "outputs": [],
   "source": [
    "def show(gender, weight, height):\n",
    "    \"\"\"\n",
    "    Show data.\n",
    "    Args:\n",
    "        gender(list): 0 and 1\n",
    "        weight(list): weight\n",
    "        height(list): height\n",
    "    Returns:\n",
    "        None\n",
    "    \"\"\"\n",
    "    w_male = []\n",
    "    w_female = []\n",
    "    h_male = []\n",
    "    h_female = []\n",
    "\n",
    "    #WRITE YOUR CODE HERE\n",
    "    for i in range(len(gender)):\n",
    "        if gender[i]:\n",
    "            w_female.append(weight[i])\n",
    "            h_female.append(height[i])\n",
    "        else:\n",
    "            w_male.append(weight[i])\n",
    "            h_male.append(height[i])\n",
    "    plt.scatter(h_female, w_female, color='red', label='Female')\n",
    "    plt.scatter(h_male, w_male, color='black', label='Male')\n",
    "    plt.legend(ncol=2)\n",
    "    plt.show()\n",
    "\n"
   ],
   "metadata": {
    "collapsed": false,
    "pycharm": {
     "name": "#%%\n"
    }
   }
  },
  {
   "cell_type": "code",
   "execution_count": 44,
   "outputs": [
    {
     "data": {
      "text/plain": "<Figure size 432x288 with 1 Axes>",
      "image/png": "[encoded data removed]"
     },
     "metadata": {
      "needs_background": "light"
     },
     "output_type": "display_data"
    }
   ],
   "source": [
    "data = read_csv_data('data/weight-height.csv')\n",
    "gender, weight, height = get_data(data)\n",
    "\n",
    "show(gender, weight, height)"
   ],
   "metadata": {
    "collapsed": false,
    "pycharm": {
     "name": "#%%\n"
    }
   }
  },
  {
   "cell_type": "code",
   "execution_count": null,
   "outputs": [],
   "source": [],
   "metadata": {
    "collapsed": false,
    "pycharm": {
     "name": "#%%\n"
    }
   }
  },
  {
   "cell_type": "code",
   "execution_count": 45,
   "outputs": [],
   "source": [
    "!git add Project_weight_and_height.ipynb"
   ],
   "metadata": {
    "collapsed": false,
    "pycharm": {
     "name": "#%%\n"
    }
   }
  },
  {
   "cell_type": "code",
   "execution_count": 46,
   "outputs": [
    {
     "name": "stdout",
     "output_type": "stream",
     "text": [
      "[django-first 67e4676] Project_weight_and_height\n",
      " 1 file changed, 103 insertions(+), 9 deletions(-)\n"
     ]
    }
   ],
   "source": [
    "!git commit -m \"Project_weight_and_height\""
   ],
   "metadata": {
    "collapsed": false,
    "pycharm": {
     "name": "#%%\n"
    }
   }
  },
  {
   "cell_type": "code",
   "execution_count": 47,
   "outputs": [
    {
     "name": "stderr",
     "output_type": "stream",
     "text": [
      "To https://github.com/Mr-Umidjon/Matplotlib-Data-visualization.git\n",
      "   6f32bea..67e4676  django-first -> django-first\n"
     ]
    }
   ],
   "source": [
    "!git push"
   ],
   "metadata": {
    "collapsed": false,
    "pycharm": {
     "name": "#%%\n"
    }
   }
  },
  {
   "cell_type": "code",
   "execution_count": 47,
   "outputs": [],
   "source": [],
   "metadata": {
    "collapsed": false,
    "pycharm": {
     "name": "#%%\n"
    }
   }
  },
  {
   "cell_type": "code",
   "execution_count": null,
   "outputs": [],
   "source": [],
   "metadata": {
    "collapsed": false,
    "pycharm": {
     "name": "#%%\n"
    }
   }
  }
 ],
 "metadata": {
  "kernelspec": {
   "display_name": "Python 3",
   "language": "python",
   "name": "python3"
  },
  "language_info": {
   "codemirror_mode": {
    "name": "ipython",
    "version": 2
   },
   "file_extension": ".py",
   "mimetype": "text/x-python",
   "name": "python",
   "nbconvert_exporter": "python",
   "pygments_lexer": "ipython2",
   "version": "2.7.6"
  }
 },
 "nbformat": 4,
 "nbformat_minor": 0
}