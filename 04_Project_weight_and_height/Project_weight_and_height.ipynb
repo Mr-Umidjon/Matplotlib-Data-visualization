{
 "cells": [
  {
   "cell_type": "code",
   "execution_count": 4,
   "metadata": {
    "collapsed": true
   },
   "outputs": [],
   "source": [
    "import matplotlib.pyplot as plt"
   ]
  },
  {
   "cell_type": "code",
   "execution_count": 8,
   "outputs": [],
   "source": [
    "import csv\n",
    "\n",
    "def read_csv_data(file_path):\n",
    "    \"\"\"\n",
    "    Read csv file\n",
    "    Args:\n",
    "        file_path(str): file path\n",
    "    Returns:\n",
    "        list: data split row\n",
    "    \"\"\"\n",
    "    result_data = []\n",
    "    # WRITE YOUR CODE HERE\n",
    "    with open(\"data/weight-height.csv\") as file:\n",
    "        for row in csv.reader(file):\n",
    "            result_data.append(row)\n",
    "    return result_data"
   ],
   "metadata": {
    "collapsed": false,
    "pycharm": {
     "name": "#%%\n"
    }
   }
  },
  {
   "cell_type": "code",
   "execution_count": 17,
   "outputs": [],
   "source": [
    "data = read_csv_data(\"data/weight-height.csv\")"
   ],
   "metadata": {
    "collapsed": false,
    "pycharm": {
     "name": "#%%\n"
    }
   }
  },
  {
   "cell_type": "code",
   "execution_count": 26,
   "outputs": [],
   "source": [
    "def get_data(data):\n",
    "    \"\"\"\n",
    "    Get data from list.\n",
    "    Gender: Change Male to 0 and Female to 1\n",
    "    Weight: Place the column in the Kg view given in Pound (1 kg = 2,205 pound).\n",
    "    Height: Place the column on the list in the cm view given in inches (2.54 cm = 1 inch).\n",
    "    Args:\n",
    "        data(list): data split row\n",
    "    Returns:\n",
    "        tuple: gender, weight and height\n",
    "\n",
    "    \"\"\"\n",
    "    gender = []\n",
    "    weight = []\n",
    "    height = []\n",
    "\n",
    "    # WRITE YOUR CODE HERE\n",
    "    for row in data[1:]:\n",
    "        if row[0] == \"Male\":\n",
    "            gender.append(0)\n",
    "        else:\n",
    "            gender.append(1)\n",
    "        weight.append(float(row[1]))\n",
    "        height.append(float(row[2]))\n",
    "\n",
    "    return gender,weight,height"
   ],
   "metadata": {
    "collapsed": false,
    "pycharm": {
     "name": "#%%\n"
    }
   }
  },
  {
   "cell_type": "code",
   "execution_count": 29,
   "outputs": [],
   "source": [
    "gender,weight,height = get_data(data)"
   ],
   "metadata": {
    "collapsed": false,
    "pycharm": {
     "name": "#%%\n"
    }
   }
  },
  {
   "cell_type": "code",
   "execution_count": 29,
   "outputs": [],
   "source": [],
   "metadata": {
    "collapsed": false,
    "pycharm": {
     "name": "#%%\n"
    }
   }
  },
  {
   "cell_type": "code",
   "execution_count": 14,
   "outputs": [],
   "source": [
    "!git add Project_weight_and_height.ipynb"
   ],
   "metadata": {
    "collapsed": false,
    "pycharm": {
     "name": "#%%\n"
    }
   }
  },
  {
   "cell_type": "code",
   "execution_count": 15,
   "outputs": [
    {
     "name": "stdout",
     "output_type": "stream",
     "text": [
      "[django-first 3834beb] Project_weight_and_height\n",
      " 1 file changed, 33 insertions(+), 12 deletions(-)\n"
     ]
    }
   ],
   "source": [
    "!git commit -m \"Project_weight_and_height\""
   ],
   "metadata": {
    "collapsed": false,
    "pycharm": {
     "name": "#%%\n"
    }
   }
  },
  {
   "cell_type": "code",
   "execution_count": 16,
   "outputs": [
    {
     "name": "stderr",
     "output_type": "stream",
     "text": [
      "To https://github.com/Mr-Umidjon/Matplotlib-Data-visualization.git\n",
      "   753bd0a..3834beb  django-first -> django-first\n"
     ]
    }
   ],
   "source": [
    "!git push"
   ],
   "metadata": {
    "collapsed": false,
    "pycharm": {
     "name": "#%%\n"
    }
   }
  },
  {
   "cell_type": "code",
   "execution_count": 12,
   "outputs": [],
   "source": [],
   "metadata": {
    "collapsed": false,
    "pycharm": {
     "name": "#%%\n"
    }
   }
  },
  {
   "cell_type": "code",
   "execution_count": null,
   "outputs": [],
   "source": [],
   "metadata": {
    "collapsed": false,
    "pycharm": {
     "name": "#%%\n"
    }
   }
  }
 ],
 "metadata": {
  "kernelspec": {
   "display_name": "Python 3",
   "language": "python",
   "name": "python3"
  },
  "language_info": {
   "codemirror_mode": {
    "name": "ipython",
    "version": 2
   },
   "file_extension": ".py",
   "mimetype": "text/x-python",
   "name": "python",
   "nbconvert_exporter": "python",
   "pygments_lexer": "ipython2",
   "version": "2.7.6"
  }
 },
 "nbformat": 4,
 "nbformat_minor": 0
}