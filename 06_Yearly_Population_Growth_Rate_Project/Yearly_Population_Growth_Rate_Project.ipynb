{
 "cells": [
  {
   "cell_type": "code",
   "execution_count": 2,
   "metadata": {
    "collapsed": true
   },
   "outputs": [],
   "source": [
    "import matplotlib.pyplot as plt\n",
    "import csv"
   ]
  },
  {
   "cell_type": "code",
   "execution_count": 7,
   "outputs": [],
   "source": [
    "def read_data(filename):\n",
    "    \"\"\"\n",
    "    Read csv file\n",
    "    Args:\n",
    "      file_path(str): file path\n",
    "    Returns:\n",
    "      list: data split row\n",
    "    \"\"\"\n",
    "    # WRITE YOUR CODE HERE\n",
    "    file = open(filename)\n",
    "    data = list(csv.reader(file))\n",
    "    return data"
   ],
   "metadata": {
    "collapsed": false,
    "pycharm": {
     "name": "#%%\n"
    }
   }
  },
  {
   "cell_type": "code",
   "execution_count": 8,
   "outputs": [
    {
     "data": {
      "text/plain": "[['Years', 'Population Growth'],\n ['1955', '2.98'],\n ['1960', '3.34'],\n ['1965', '3.63'],\n ['1970', '3.3'],\n ['1975', '2.72'],\n ['1980', '2.73'],\n ['1985', '2.53'],\n ['1990', '2.41'],\n ['1995', '2.04'],\n ['2000', '1.47'],\n ['2005', '1.34'],\n ['2010', '1.6'],\n ['2015', '1.65'],\n ['2020', '1.48']]"
     },
     "execution_count": 8,
     "metadata": {},
     "output_type": "execute_result"
    }
   ],
   "source": [
    "data_list = read_data(\"Population.csv\")\n",
    "data_list"
   ],
   "metadata": {
    "collapsed": false,
    "pycharm": {
     "name": "#%%\n"
    }
   }
  },
  {
   "cell_type": "code",
   "execution_count": 17,
   "outputs": [],
   "source": [
    "def get_data(data_list):\n",
    "    \"\"\"\n",
    "    Get data from list.\n",
    "\n",
    "    Args:\n",
    "      data(list): data split row\n",
    "    Returns:\n",
    "      tuple: labels, points\n",
    "    \"\"\"\n",
    "    # WRITE YOUR CODE HERE\n",
    "    labels = data_list[0]\n",
    "    years = []\n",
    "    population = []\n",
    "    for p in data_list[1:]:\n",
    "        years.append(float(p[0]))\n",
    "        population.append(float(p[1]))\n",
    "    points = [years, population]\n",
    "    return labels, points"
   ],
   "metadata": {
    "collapsed": false,
    "pycharm": {
     "name": "#%%\n"
    }
   }
  },
  {
   "cell_type": "code",
   "execution_count": 18,
   "outputs": [],
   "source": [
    "labels, points = get_data(data_list)"
   ],
   "metadata": {
    "collapsed": false,
    "pycharm": {
     "name": "#%%\n"
    }
   }
  },
  {
   "cell_type": "code",
   "execution_count": 19,
   "outputs": [
    {
     "data": {
      "text/plain": "['Years', 'Population Growth']"
     },
     "execution_count": 19,
     "metadata": {},
     "output_type": "execute_result"
    }
   ],
   "source": [
    "labels"
   ],
   "metadata": {
    "collapsed": false,
    "pycharm": {
     "name": "#%%\n"
    }
   }
  },
  {
   "cell_type": "code",
   "execution_count": 20,
   "outputs": [
    {
     "data": {
      "text/plain": "[[1955.0,\n  1960.0,\n  1965.0,\n  1970.0,\n  1975.0,\n  1980.0,\n  1985.0,\n  1990.0,\n  1995.0,\n  2000.0,\n  2005.0,\n  2010.0,\n  2015.0,\n  2020.0],\n [2.98,\n  3.34,\n  3.63,\n  3.3,\n  2.72,\n  2.73,\n  2.53,\n  2.41,\n  2.04,\n  1.47,\n  1.34,\n  1.6,\n  1.65,\n  1.48]]"
     },
     "execution_count": 20,
     "metadata": {},
     "output_type": "execute_result"
    }
   ],
   "source": [
    "points"
   ],
   "metadata": {
    "collapsed": false,
    "pycharm": {
     "name": "#%%\n"
    }
   }
  },
  {
   "cell_type": "code",
   "execution_count": 60,
   "outputs": [],
   "source": [
    "def plot_data(labels, points):\n",
    "    \"\"\"\n",
    "    Show data.\n",
    "    Args:\n",
    "      gender(list): 0 and 1\n",
    "      weight(list): weight\n",
    "      height(list): height\n",
    "    Returns:\n",
    "      None\n",
    "    \"\"\"\n",
    "    # WRITE YOUR CODE HERE\n",
    "    years, population = points\n",
    "    x, y = labels\n",
    "    plt.grid()\n",
    "    plt.plot(years, population, color='#f08652')\n",
    "    plt.title('Yearly Population Growth Rate', c='#071294', size=15, pad=15)\n",
    "    plt.xlabel(x, c='#238279', size=14, labelpad=15)\n",
    "    plt.ylabel(y, c='#238279', size=14, labelpad=15)\n",
    "    plt.show()"
   ],
   "metadata": {
    "collapsed": false,
    "pycharm": {
     "name": "#%%\n"
    }
   }
  },
  {
   "cell_type": "code",
   "execution_count": 61,
   "outputs": [
    {
     "data": {
      "text/plain": "<Figure size 600x400 with 1 Axes>",
      "image/png": "[encoded data removed]"
     },
     "metadata": {
      "needs_background": "light"
     },
     "output_type": "display_data"
    }
   ],
   "source": [
    "plt.figure(dpi=100)\n",
    "plot_data(labels, points)"
   ],
   "metadata": {
    "collapsed": false,
    "pycharm": {
     "name": "#%%\n"
    }
   }
  },
  {
   "cell_type": "code",
   "execution_count": null,
   "outputs": [],
   "source": [],
   "metadata": {
    "collapsed": false,
    "pycharm": {
     "name": "#%%\n"
    }
   }
  }
 ],
 "metadata": {
  "kernelspec": {
   "display_name": "Python 3",
   "language": "python",
   "name": "python3"
  },
  "language_info": {
   "codemirror_mode": {
    "name": "ipython",
    "version": 2
   },
   "file_extension": ".py",
   "mimetype": "text/x-python",
   "name": "python",
   "nbconvert_exporter": "python",
   "pygments_lexer": "ipython2",
   "version": "2.7.6"
  }
 },
 "nbformat": 4,
 "nbformat_minor": 0
}