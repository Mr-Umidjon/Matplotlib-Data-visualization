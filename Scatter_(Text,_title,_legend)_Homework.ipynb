{
  "nbformat": 4,
  "nbformat_minor": 0,
  "metadata": {
    "colab": {
      "name": "Scatter (Text, title, legend). Homework.ipynb",
      "provenance": [],
      "collapsed_sections": [],
      "toc_visible": true,
      "include_colab_link": true
    },
    "kernelspec": {
      "name": "python3",
      "display_name": "Python 3"
    },
    "language_info": {
      "name": "python"
    },
    "accelerator": "GPU"
  },
  "cells": [
    {
      "cell_type": "markdown",
      "metadata": {
        "id": "view-in-github",
        "colab_type": "text"
      },
      "source": [
        "<a href=\"https://colab.research.google.com/github/Mr-Umidjon/Matplotlib-Data-visualization/blob/django-first/Scatter_(Text%2C_title%2C_legend)_Homework.ipynb\" target=\"_parent\"><img src=\"https://colab.research.google.com/assets/colab-badge.svg\" alt=\"Open In Colab\"/></a>"
      ]
    },
    {
      "cell_type": "markdown",
      "metadata": {
        "id": "vcZ4N5DFk4c3"
      },
      "source": [
        "# Scatter text, legend, grid"
      ]
    },
    {
      "cell_type": "code",
      "metadata": {
        "id": "qrdkkwXflQc2"
      },
      "source": [
        "import matplotlib.pyplot as plt"
      ],
      "execution_count": 2,
      "outputs": []
    },
    {
      "cell_type": "markdown",
      "metadata": {
        "id": "bTbohecVr7S4"
      },
      "source": [
        "## Text in Matplotlib in plots\n"
      ]
    },
    {
      "cell_type": "markdown",
      "metadata": {
        "id": "zlegZmkLtnUr"
      },
      "source": [
        "### Title of plot\n",
        "10. Insert Title of your plot as \"Point coordinates\"(Chizmaning sarlavhasini \"Point coordinates\" deb nomlang)"
      ]
    },
    {
      "cell_type": "code",
      "metadata": {
        "colab": {
          "base_uri": "https://localhost:8080/",
          "height": 304
        },
        "id": "LnDWbqjhtoS3",
        "outputId": "b2bc1852-6f84-4c15-b441-c21e0c75b8a3"
      },
      "source": [
        "def plot_title(x,y):\n",
        "  '''\n",
        "  Parameters: x and y axis points;\n",
        "  '''\n",
        "  plt.title(label=\"Point coordinates\", c='red', size=24, pad=20)\n",
        "  plt.scatter(x, y)\n",
        "  plt.show()\n",
        "x = 3\n",
        "y = 4\n",
        "plot_title(x,y)"
      ],
      "execution_count": 10,
      "outputs": [
        {
          "output_type": "display_data",
          "data": {
            "text/plain": [
              "<Figure size 432x288 with 1 Axes>"
            ],
            "image/png": "[encoded data removed]"
          },
          "metadata": {
            "needs_background": "light"
          }
        }
      ]
    },
    {
      "cell_type": "markdown",
      "metadata": {
        "id": "qS9Lf5lOulNR"
      },
      "source": [
        "### Text in the plot\n",
        "11. Print text(Full Name) in the plot (chizmada matnni(to'liq ismingizni) chop eting)"
      ]
    },
    {
      "cell_type": "code",
      "metadata": {
        "colab": {
          "base_uri": "https://localhost:8080/",
          "height": 265
        },
        "id": "7tIizjjBumaq",
        "outputId": "2116fdf0-53ff-4af6-ace2-8a37b58c9e79"
      },
      "source": [
        "def text_in_plot(x,y):\n",
        "  '''\n",
        "  Parameters: x and y axis points;\n",
        "  '''\n",
        "  plt.scatter(x, y, c='1')\n",
        "  plt.text(x, y, \"UMIDBEK\", c='b', size='24')\n",
        "  plt.show()\n",
        "x = 3\n",
        "y = 4\n",
        "text_in_plot(x,y)"
      ],
      "execution_count": 24,
      "outputs": [
        {
          "output_type": "display_data",
          "data": {
            "text/plain": [
              "<Figure size 432x288 with 1 Axes>"
            ],
            "image/png": "[encoded data removed]"
          },
          "metadata": {
            "needs_background": "light"
          }
        }
      ]
    },
    {
      "cell_type": "markdown",
      "metadata": {
        "id": "sQRckSR6wEF7"
      },
      "source": [
        "*12*. Inserting coordinates for each points (har bir nuqta uchun kordinatalarni kiriting)"
      ]
    },
    {
      "cell_type": "code",
      "metadata": {
        "colab": {
          "base_uri": "https://localhost:8080/",
          "height": 265
        },
        "id": "gwWiyC0gwGNr",
        "outputId": "b9e3415e-a27a-43d3-b613-73457b0637ab"
      },
      "source": [
        "def each_point_style_size_color_cor(x,y,color,size):\n",
        "  '''\n",
        "  Parameters: x and y axis points list;\n",
        "  '''\n",
        "  markers = ['+', 'p', 's', 'v', '*']\n",
        "  for i in range(len(x)):\n",
        "    plt.scatter(x[i], y[i], s=size, c=color[i], marker=markers[i])\n",
        "    plt.text(x[i]+0.3, y[i], f\"({x[i]}, {y[i]})\")\n",
        "  plt.show()\n",
        "x = [1, 2, 3, 4, 10]\n",
        "y = [2, 4, 6, 3, 7]\n",
        "color = ['b', 'y', 'g', 'r', 'm']\n",
        "each_point_style_size_color_cor(x,y,color,100)"
      ],
      "execution_count": 71,
      "outputs": [
        {
          "output_type": "display_data",
          "data": {
            "text/plain": [
              "<Figure size 432x288 with 1 Axes>"
            ],
            "image/png": "[encoded data removed]"
          },
          "metadata": {
            "needs_background": "light"
          }
        }
      ]
    },
    {
      "cell_type": "code",
      "source": [
        ""
      ],
      "metadata": {
        "id": "nqXMl5ohgsEG",
        "outputId": "72026c36-1518-46ca-f0d6-83bc0542f616",
        "colab": {
          "base_uri": "https://localhost:8080/",
          "height": 200
        }
      },
      "execution_count": 27,
      "outputs": [
        {
          "output_type": "error",
          "ename": "TypeError",
          "evalue": "ignored",
          "traceback": [
            "\u001b[0;31m---------------------------------------------------------------------------\u001b[0m",
            "\u001b[0;31mTypeError\u001b[0m                                 Traceback (most recent call last)",
            "\u001b[0;32m<ipython-input-27-fac35d2273cf>\u001b[0m in \u001b[0;36m<module>\u001b[0;34m()\u001b[0m\n\u001b[1;32m      2\u001b[0m \u001b[0my\u001b[0m \u001b[0;34m=\u001b[0m \u001b[0;34m[\u001b[0m\u001b[0;36m2\u001b[0m\u001b[0;34m,\u001b[0m \u001b[0;36m4\u001b[0m\u001b[0;34m,\u001b[0m \u001b[0;36m6\u001b[0m\u001b[0;34m,\u001b[0m \u001b[0;36m3\u001b[0m\u001b[0;34m,\u001b[0m \u001b[0;36m7\u001b[0m\u001b[0;34m]\u001b[0m\u001b[0;34m\u001b[0m\u001b[0;34m\u001b[0m\u001b[0m\n\u001b[1;32m      3\u001b[0m \u001b[0mcolor\u001b[0m \u001b[0;34m=\u001b[0m \u001b[0;34m[\u001b[0m\u001b[0;34m'b'\u001b[0m\u001b[0;34m,\u001b[0m \u001b[0;34m'y'\u001b[0m\u001b[0;34m,\u001b[0m \u001b[0;34m'g'\u001b[0m\u001b[0;34m,\u001b[0m \u001b[0;34m'r'\u001b[0m\u001b[0;34m,\u001b[0m \u001b[0;34m'0'\u001b[0m\u001b[0;34m]\u001b[0m\u001b[0;34m\u001b[0m\u001b[0;34m\u001b[0m\u001b[0m\n\u001b[0;32m----> 4\u001b[0;31m \u001b[0meach_point_style_size_color_cor\u001b[0m\u001b[0;34m(\u001b[0m\u001b[0mx\u001b[0m\u001b[0;34m,\u001b[0m\u001b[0my\u001b[0m\u001b[0;34m,\u001b[0m\u001b[0mcolor\u001b[0m\u001b[0;34m)\u001b[0m\u001b[0;34m\u001b[0m\u001b[0;34m\u001b[0m\u001b[0m\n\u001b[0m",
            "\u001b[0;31mTypeError\u001b[0m: each_point_style_size_color_cor() missing 2 required positional arguments: 'style' and 'size'"
          ]
        }
      ]
    },
    {
      "cell_type": "markdown",
      "metadata": {
        "id": "2mUqdJCnvSGN"
      },
      "source": [
        "### Name of Axis\n",
        "13. Insert name of Axises (O'qlarning nomini kiriting)"
      ]
    },
    {
      "cell_type": "code",
      "metadata": {
        "colab": {
          "base_uri": "https://localhost:8080/",
          "height": 304
        },
        "id": "rnSO5ULUvS8I",
        "outputId": "f04e7f2f-77a1-4033-a88f-e15720d4b83e"
      },
      "source": [
        "from numpy.ma.core import size\n",
        "def x_y_label(x,y):\n",
        "  '''\n",
        "  Parameters: x and y axis points;\n",
        "  '''\n",
        "  # Write the code here\n",
        "  plt.scatter(x, y, c='red')\n",
        "  plt.xlabel(xlabel='X - axis', size=20, c='m', labelpad=20)\n",
        "  plt.ylabel(ylabel='Y - axis', size=20, c='m', labelpad=20)\n",
        "  plt.show()\n",
        "x_y_label(3, 4)"
      ],
      "execution_count": 53,
      "outputs": [
        {
          "output_type": "display_data",
          "data": {
            "text/plain": [
              "<Figure size 432x288 with 1 Axes>"
            ],
            "image/png": "[encoded data removed]"
          },
          "metadata": {
            "needs_background": "light"
          }
        }
      ]
    },
    {
      "cell_type": "markdown",
      "metadata": {
        "id": "3PZZVaqL0IUc"
      },
      "source": [
        "### Legend\n",
        "14. Adding legend(description of data) for your plot (Chizmangizga legend (ma'lumotlar tavsifi) qo'shing)"
      ]
    },
    {
      "cell_type": "code",
      "metadata": {
        "colab": {
          "base_uri": "https://localhost:8080/",
          "height": 265
        },
        "id": "TAE8x77g0JEV",
        "outputId": "bb8a0efe-9981-48e3-f219-c6c73c302c54"
      },
      "source": [
        "def legend_of_data(x,y):\n",
        "  '''\n",
        "  Parameters: x and y axis points list;\n",
        "  '''\n",
        "  # Write the code here\n",
        "  labels=['cyan', 'magenta', 'red']\n",
        "  color=['c', 'r', 'm']\n",
        "  for i in range(len(color)):\n",
        "    plt.scatter(x[i], y[i], c=color[i], label=labels[i])\n",
        "  plt.legend()\n",
        "  plt.show()\n",
        "x = [1, 2, 4]\n",
        "y = [2, 3, 4]\n",
        "legend_of_data(x,y)"
      ],
      "execution_count": 61,
      "outputs": [
        {
          "output_type": "display_data",
          "data": {
            "text/plain": [
              "<Figure size 432x288 with 1 Axes>"
            ],
            "image/png": "[encoded data removed]"
          },
          "metadata": {
            "needs_background": "light"
          }
        }
      ]
    },
    {
      "cell_type": "markdown",
      "metadata": {
        "id": "KRo3NK8T1-Vs"
      },
      "source": [
        "## Grid\n",
        "15. Adding grid for your plot (Chizmangiz uchun grid(katak) qo'shing)"
      ]
    },
    {
      "cell_type": "code",
      "metadata": {
        "colab": {
          "base_uri": "https://localhost:8080/",
          "height": 265
        },
        "id": "CitblrYF1_OR",
        "outputId": "7a999f09-80ef-49df-9599-5a8b5dfb6122"
      },
      "source": [
        "\n",
        "def plot_grid(x,y,color,style,size):\n",
        "  '''\n",
        "  Parameters: x and y axis points list;\n",
        "  '''\n",
        "  # Write the code here\n",
        "  plt.show()"
      ],
      "execution_count": null,
      "outputs": [
        {
          "output_type": "display_data",
          "data": {
            "image/png": "[encoded data removed]",
            "text/plain": [
              "<Figure size 432x288 with 1 Axes>"
            ]
          },
          "metadata": {
            "tags": [],
            "needs_background": "light"
          }
        }
      ]
    }
  ]
}